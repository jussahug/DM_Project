{
  "nbformat": 4,
  "nbformat_minor": 0,
  "metadata": {
    "colab": {
      "provenance": []
    },
    "kernelspec": {
      "name": "python3",
      "display_name": "Python 3"
    },
    "language_info": {
      "name": "python"
    }
  },
  "cells": [
    {
      "cell_type": "markdown",
      "source": [
        "# Project: Phân Loại Yếu Tố Nguy Cơ Của Bệnh Thận Mãn Tính\n",
        "# Thành viên:\n",
        "# 21130377 - Nguyễn Cường Huy\n",
        "# 21130385 - Phạm Hoàng Huy"
      ],
      "metadata": {
        "id": "Ymc9Cm9QUDCs"
      }
    },
    {
      "cell_type": "markdown",
      "source": [
        "# Import các thư viện cần thiết"
      ],
      "metadata": {
        "id": "rXHa9erPVqh5"
      }
    },
    {
      "cell_type": "code",
      "source": [
        "!pip install imbalanced-learn\n",
        "!pip install ucimlrepo"
      ],
      "metadata": {
        "colab": {
          "base_uri": "https://localhost:8080/"
        },
        "id": "mImGlKQSFutN",
        "outputId": "8d377ea4-e7b1-4031-dbe1-7a5827be0dbd"
      },
      "execution_count": null,
      "outputs": [
        {
          "output_type": "stream",
          "name": "stdout",
          "text": [
            "Requirement already satisfied: imbalanced-learn in /usr/local/lib/python3.11/dist-packages (0.13.0)\n",
            "Requirement already satisfied: numpy<3,>=1.24.3 in /usr/local/lib/python3.11/dist-packages (from imbalanced-learn) (1.26.4)\n",
            "Requirement already satisfied: scipy<2,>=1.10.1 in /usr/local/lib/python3.11/dist-packages (from imbalanced-learn) (1.13.1)\n",
            "Requirement already satisfied: scikit-learn<2,>=1.3.2 in /usr/local/lib/python3.11/dist-packages (from imbalanced-learn) (1.6.1)\n",
            "Requirement already satisfied: sklearn-compat<1,>=0.1 in /usr/local/lib/python3.11/dist-packages (from imbalanced-learn) (0.1.3)\n",
            "Requirement already satisfied: joblib<2,>=1.1.1 in /usr/local/lib/python3.11/dist-packages (from imbalanced-learn) (1.4.2)\n",
            "Requirement already satisfied: threadpoolctl<4,>=2.0.0 in /usr/local/lib/python3.11/dist-packages (from imbalanced-learn) (3.5.0)\n",
            "Requirement already satisfied: ucimlrepo in /usr/local/lib/python3.11/dist-packages (0.0.7)\n",
            "Requirement already satisfied: pandas>=1.0.0 in /usr/local/lib/python3.11/dist-packages (from ucimlrepo) (2.2.2)\n",
            "Requirement already satisfied: certifi>=2020.12.5 in /usr/local/lib/python3.11/dist-packages (from ucimlrepo) (2024.12.14)\n",
            "Requirement already satisfied: numpy>=1.23.2 in /usr/local/lib/python3.11/dist-packages (from pandas>=1.0.0->ucimlrepo) (1.26.4)\n",
            "Requirement already satisfied: python-dateutil>=2.8.2 in /usr/local/lib/python3.11/dist-packages (from pandas>=1.0.0->ucimlrepo) (2.8.2)\n",
            "Requirement already satisfied: pytz>=2020.1 in /usr/local/lib/python3.11/dist-packages (from pandas>=1.0.0->ucimlrepo) (2024.2)\n",
            "Requirement already satisfied: tzdata>=2022.7 in /usr/local/lib/python3.11/dist-packages (from pandas>=1.0.0->ucimlrepo) (2025.1)\n",
            "Requirement already satisfied: six>=1.5 in /usr/local/lib/python3.11/dist-packages (from python-dateutil>=2.8.2->pandas>=1.0.0->ucimlrepo) (1.17.0)\n"
          ]
        }
      ]
    },
    {
      "cell_type": "code",
      "source": [
        "import numpy as np\n",
        "import pandas as pd\n",
        "import seaborn as sns\n",
        "import itertools\n",
        "import random\n",
        "import matplotlib.pyplot as plt\n",
        "from sklearn.metrics import accuracy_score, classification_report\n",
        "from sklearn.metrics import classification_report, confusion_matrix, ConfusionMatrixDisplay\n",
        "from sklearn.metrics import confusion_matrix, accuracy_score, precision_score, recall_score, f1_score, roc_curve, auc\n",
        "from sklearn.model_selection import train_test_split\n",
        "from sklearn.preprocessing import StandardScaler\n",
        "from sklearn.linear_model import LogisticRegression\n",
        "from sklearn.ensemble import RandomForestClassifier\n",
        "from ucimlrepo import fetch_ucirepo\n",
        "from imblearn.over_sampling import SMOTE\n",
        "from sklearn.impute import SimpleImputer\n",
        "from sklearn.model_selection import cross_val_score\n",
        "from sklearn.preprocessing import LabelEncoder\n",
        "from tensorflow import keras\n",
        "from tensorflow.keras import layers\n",
        "from tensorflow.keras.utils import to_categorical\n",
        "from tensorflow.keras import regularizers\n",
        "from tensorflow.keras.models import Sequential\n",
        "from tensorflow.keras.layers import Dense, Dropout\n",
        "from tensorflow.keras.callbacks import ModelCheckpoint\n",
        "from prettytable import PrettyTable"
      ],
      "metadata": {
        "id": "0Cm5LvV5WT0l"
      },
      "execution_count": null,
      "outputs": []
    },
    {
      "cell_type": "markdown",
      "source": [
        "# Import Data"
      ],
      "metadata": {
        "id": "i3L8Ta_OXZgh"
      }
    },
    {
      "cell_type": "code",
      "source": [
        "# fetch dataset\n",
        "risk_factor_prediction_of_chronic_kidney_disease = fetch_ucirepo(id=857)\n",
        "\n",
        "# data (as pandas dataframes)\n",
        "X = risk_factor_prediction_of_chronic_kidney_disease.data.features\n",
        "y = risk_factor_prediction_of_chronic_kidney_disease.data.targets\n",
        "\n",
        "# metadata\n",
        "print(risk_factor_prediction_of_chronic_kidney_disease.metadata)\n",
        "\n",
        "# variable information\n",
        "print(risk_factor_prediction_of_chronic_kidney_disease.variables)\n"
      ],
      "metadata": {
        "colab": {
          "base_uri": "https://localhost:8080/"
        },
        "id": "o-ydvMeLXb9o",
        "outputId": "14b6b77c-59f4-4b6b-bc95-3d72e550ec29"
      },
      "execution_count": null,
      "outputs": [
        {
          "output_type": "stream",
          "name": "stdout",
          "text": [
            "{'uci_id': 857, 'name': 'Risk Factor Prediction of Chronic Kidney Disease', 'repository_url': 'https://archive.ics.uci.edu/dataset/857/risk+factor+prediction+of+chronic+kidney+disease', 'data_url': 'https://archive.ics.uci.edu/static/public/857/data.csv', 'abstract': 'Chronic kidney disease (CKD) is an increasing medical issue that declines the productivity of renal capacities and subsequently damages the kidneys.', 'area': 'Health and Medicine', 'tasks': ['Classification', 'Regression'], 'characteristics': ['Multivariate'], 'num_instances': 200, 'num_features': 28, 'feature_types': ['Real'], 'demographics': [], 'target_col': ['class'], 'index_col': None, 'has_missing_values': 'no', 'missing_values_symbol': None, 'year_of_dataset_creation': 2020, 'last_updated': 'Fri Mar 08 2024', 'dataset_doi': '10.24432/C5WP64', 'creators': ['Md. Ashiqul Islam', 'Shamima Akter'], 'intro_paper': {'ID': 268, 'type': 'NATIVE', 'title': 'Risk Factor Prediction of Chronic Kidney Disease based on Machine Learning Algorithms', 'authors': 'M. Islam, S. Akter, M. Hossen, Sadia Ahmed Keya, Sadia Afrin Tisha, Shahed Hossain', 'venue': 'International Conferences on Information Science and System', 'year': 2020, 'journal': None, 'DOI': None, 'URL': 'https://www.semanticscholar.org/paper/a4b90dd7b9dfaffa9eff1efc6555bbce62a963d7', 'sha': None, 'corpus': None, 'arxiv': None, 'mag': None, 'acl': None, 'pmid': None, 'pmcid': None}, 'additional_info': {'summary': 'This dataset is real Bangladeshi patient data. The dataset is collected from Enam Medical College, Savar, Dhaka, Bangladesh.\\n', 'purpose': None, 'funded_by': None, 'instances_represent': None, 'recommended_data_splits': None, 'sensitive_data': None, 'preprocessing_description': 'This dataset is not pre-processed, if you want to apply a Machine learning Algorithm at first you have to need to pre-process the data', 'variable_info': '1. bp(Diastolic)\\n2. bp limit\\n3. sg\\n4. al\\n5. class\\n6. rbc\\n7. su\\n8. pc\\n9. pcc\\n10. ba\\n11.bgr\\n12. bu\\n13. sod\\n14. sc\\n15. pot\\n16. hemo\\n17. pcv\\n18. rbcc\\n19. wbcc\\n20. htn\\n21. dm\\n22. cad\\n23. appet\\n24. pe\\n25. ane\\n26. grf\\n27. stage\\n28. affected\\n29. age', 'citation': \"M. A. Islam, S. Akter, M. S. Hossen, S. A. Keya, S. A. Tisha and S. Hossain, 'Risk Factor Prediction of Chronic Kidney Disease based on Machine Learning Algorithms,' 2020 3rd International Conference on Intelligent Sustainable Systems (ICISS), Thoothukudi, India, 2020, pp. 952-957, doi: 10.1109/ICISS49785.2020.9315878.\"}}\n",
            "              name     role         type demographic description units  \\\n",
            "0   bp (Diastolic)  Feature      Integer        None        None  None   \n",
            "1         bp limit  Feature      Integer        None        None  None   \n",
            "2               sg  Feature  Categorical        None        None  None   \n",
            "3               al  Feature  Categorical        None        None  None   \n",
            "4            class   Target       Binary        None        None  None   \n",
            "5              rbc  Feature      Integer        None        None  None   \n",
            "6               su  Feature  Categorical        None        None  None   \n",
            "7               pc  Feature      Integer        None        None  None   \n",
            "8              pcc  Feature      Integer        None        None  None   \n",
            "9               ba  Feature      Integer        None        None  None   \n",
            "10             bgr  Feature  Categorical        None        None  None   \n",
            "11              bu  Feature  Categorical        None        None  None   \n",
            "12             sod  Feature  Categorical        None        None  None   \n",
            "13              sc  Feature  Categorical        None        None  None   \n",
            "14             pot  Feature  Categorical        None        None  None   \n",
            "15            hemo  Feature  Categorical        None        None  None   \n",
            "16             pcv  Feature  Categorical        None        None  None   \n",
            "17            rbcc  Feature  Categorical        None        None  None   \n",
            "18            wbcc  Feature  Categorical        None        None  None   \n",
            "19             htn  Feature      Integer        None        None  None   \n",
            "20              dm  Feature      Integer        None        None  None   \n",
            "21             cad  Feature      Integer        None        None  None   \n",
            "22           appet  Feature      Integer        None        None  None   \n",
            "23              pe  Feature      Integer        None        None  None   \n",
            "24             ane  Feature      Integer        None        None  None   \n",
            "25             grf  Feature  Categorical        None        None  None   \n",
            "26           stage  Feature  Categorical        None        None  None   \n",
            "27        affected  Feature      Integer        None        None  None   \n",
            "28             age  Feature  Categorical        None        None  None   \n",
            "\n",
            "   missing_values  \n",
            "0              no  \n",
            "1              no  \n",
            "2              no  \n",
            "3              no  \n",
            "4              no  \n",
            "5              no  \n",
            "6              no  \n",
            "7              no  \n",
            "8              no  \n",
            "9              no  \n",
            "10             no  \n",
            "11             no  \n",
            "12             no  \n",
            "13             no  \n",
            "14             no  \n",
            "15             no  \n",
            "16             no  \n",
            "17             no  \n",
            "18             no  \n",
            "19             no  \n",
            "20             no  \n",
            "21             no  \n",
            "22             no  \n",
            "23             no  \n",
            "24             no  \n",
            "25             no  \n",
            "26             no  \n",
            "27             no  \n",
            "28             no  \n"
          ]
        }
      ]
    },
    {
      "cell_type": "code",
      "source": [
        "replace_dict = {\n",
        "    \"sg\": {\n",
        "        \"1.019 - 1.021\": 1.020,\n",
        "        \"1.009 - 1.011\": 1.010,\n",
        "        \"1.015 - 1.017\": 1.016,\n",
        "        \"≥ 1.023\": 1.023,\n",
        "        \"< 1.007\": 1.007,\n",
        "    },\n",
        "    \"al\": {\n",
        "        \"1-Jan\": 1,\n",
        "        \"< 0\": 0,\n",
        "        \"≥ 4\": 4,\n",
        "        \"3-Mar\": 3,\n",
        "        \"2-Feb\": 2,\n",
        "    },\n",
        "    \"su\": {\n",
        "        \"< 0\": 0,\n",
        "        \"4-Apr\": 4,\n",
        "        \"2-Feb\": 2,\n",
        "        \"4-Mar\": 3,\n",
        "        \"2-Jan\": 1,\n",
        "        \"≥ 4\": 5,\n",
        "    },\n",
        "    \"bgr\": {\n",
        "        \"< 112\": 112,\n",
        "        \"112 - 154\": 133,\n",
        "        \"154 - 196\": 175,\n",
        "        \"196 - 238\": 217,\n",
        "        \"238 - 280\": 259,\n",
        "        \"280 - 322\": 301,\n",
        "        \"322 - 364\": 343,\n",
        "        \"364 - 406\": 385,\n",
        "        \"406 - 448\": 427,\n",
        "        \"≥ 448\": 448,\n",
        "    },\n",
        "    \"bu\": {\n",
        "        \"< 48.1\": 48.1,\n",
        "        \"48.1 - 86.2\": 67.15,\n",
        "        \"86.2 - 124.3\": 105.25,\n",
        "        \"124.3 - 162.4\": 143.35,\n",
        "        \"162.4 - 200.5\": 181.45,\n",
        "        \"200.5 - 238.6\": 219.55,\n",
        "        \"238.6 - 276.7\": 257.65,\n",
        "        \"≥ 352.9\": 352.9,\n",
        "    },\n",
        "    \"sod\": {\n",
        "        \"< 118\": 118,\n",
        "        \"118 - 123\": 120.5,\n",
        "        \"123 - 128\": 125.5,\n",
        "        \"128 - 133\": 130.5,\n",
        "        \"133 - 138\": 135.5,\n",
        "        \"138 - 143\": 140.5,\n",
        "        \"143 - 148\": 145.5,\n",
        "        \"148 - 153\": 150.5,\n",
        "        \"≥ 158\": 158,\n",
        "    },\n",
        "    \"sc\": {\n",
        "        \"< 3.65\": 3.65,\n",
        "        \"3.65 - 6.8\": 6.8,\n",
        "        \"6.8 - 9.95\": 9.95,\n",
        "        \"9.95 - 13.1\": 13.1,\n",
        "        \"13.1 - 16.25\": 16.25,\n",
        "        \"16.25 - 19.4\": 19.4,\n",
        "        \"≥ 28.85\": 28.85,\n",
        "    },\n",
        "    \"pot\": {\n",
        "        \"< 7.31\": 7.31,\n",
        "        \"7.31 - 11.72\": 11.72,\n",
        "        \"38.18 - 42.59\": 38.18,\n",
        "        \"≥ 42.59\": 42.59,\n",
        "    },\n",
        "    \"hemo\": {\n",
        "        \"< 6.1\": 6.1,\n",
        "        \"6.1 - 7.4\": 7,\n",
        "        \"7.4 - 8.7\": 8,\n",
        "        \"8.7 - 10\": 9,\n",
        "        \"10 - 11.3\": 10,\n",
        "        \"11.3 - 12.6\": 12,\n",
        "        \"12.6 - 13.9\": 13,\n",
        "        \"13.9 - 15.2\": 14,\n",
        "        \"15.2 - 16.5\": 15,\n",
        "        \"≥ 16.5\": 16.5,\n",
        "    },\n",
        "    \"age\": {\n",
        "        \"< 12\": 12,\n",
        "        \"20-Dec\": 18,\n",
        "        \"20 - 27\": 15,\n",
        "        \"27 - 35\": 30,\n",
        "        \"35 - 43\": 40,\n",
        "        \"43 - 51\": 50,\n",
        "        \"51 - 59\": 55,\n",
        "        \"59 - 66\": 60,\n",
        "        \"66 - 74\": 70,\n",
        "        \"≥ 74\": 74,\n",
        "    },\n",
        "    \"grf\": {\n",
        "        \"≥ 227.944\": 227.944,\n",
        "        \"127.281 - 152.446\": 127.281,\n",
        "        \"102.115 - 127.281\": 102.115,\n",
        "        \"177.612 - 202.778\": 177.612,\n",
        "        \"26.6175 - 51.7832\": 26.6175,\n",
        "        \"51.7832 - 76.949\": 51.7832,\n",
        "        \"76.949 - 102.115\": 76.949,\n",
        "        \"152.446 - 177.612\": 152.446,\n",
        "        \"202.778 - 227.944\": 202.778,\n",
        "        \"< 26.6175\": 26,\n",
        "        \" p \": 0,\n",
        "    },\n",
        "    \"stage\": {\n",
        "        \"s1\": 1,\n",
        "        \"s2\": 2,\n",
        "        \"s3\": 3,\n",
        "        \"s4\": 4,\n",
        "        \"s5\": 5,\n",
        "    },\n",
        "    \"rbcc\": {\n",
        "        \"2.69 - 3.28\": 2.99,\n",
        "        \"3.28 - 3.87\": 3.575,\n",
        "        \"3.87 - 4.46\": 4.165,\n",
        "        \"4.46 - 5.05\": 4.755,\n",
        "        \"5.05 - 5.64\": 5.345,\n",
        "        \"5.64 - 6.23\": 5.935,\n",
        "        \"6.23 - 6.82\": 6.525,\n",
        "        \"≥ 7.41\": 7.41,\n",
        "        \"< 2.69\": 2.5,\n",
        "    },\n",
        "    \"wbcc\": {\n",
        "        \"< 4980\": 4980,\n",
        "        \"4980 - 7360\": 6170,\n",
        "        \"7360 - 9740\": 8550,\n",
        "        \"9740 - 12120\": 10430,\n",
        "        \"12120 - 14500\": 13310,\n",
        "        \"14500 - 16880\": 15690,\n",
        "        \"16880 - 19260\": 18070,\n",
        "        \"19260 - 21640\": 20450,\n",
        "        \"≥ 24020\": 24020,\n",
        "    }\n",
        "}\n",
        "\n",
        "\n",
        "\n",
        "for column, mapping in replace_dict.items():\n",
        "    if column in X.columns:\n",
        "        X[column] = X[column].replace(mapping)\n",
        "\n",
        "y = y.replace({'ckd': 1, 'notckd': 0})"
      ],
      "metadata": {
        "id": "WliBTGuyhC1Y",
        "colab": {
          "base_uri": "https://localhost:8080/"
        },
        "outputId": "284349c5-17de-4488-cd7d-410a6a91557b"
      },
      "execution_count": null,
      "outputs": [
        {
          "output_type": "stream",
          "name": "stderr",
          "text": [
            "<ipython-input-132-cb4aa225aa9b>:144: FutureWarning: Downcasting behavior in `replace` is deprecated and will be removed in a future version. To retain the old behavior, explicitly call `result.infer_objects(copy=False)`. To opt-in to the future behavior, set `pd.set_option('future.no_silent_downcasting', True)`\n",
            "  X[column] = X[column].replace(mapping)\n",
            "<ipython-input-132-cb4aa225aa9b>:144: SettingWithCopyWarning: \n",
            "A value is trying to be set on a copy of a slice from a DataFrame.\n",
            "Try using .loc[row_indexer,col_indexer] = value instead\n",
            "\n",
            "See the caveats in the documentation: https://pandas.pydata.org/pandas-docs/stable/user_guide/indexing.html#returning-a-view-versus-a-copy\n",
            "  X[column] = X[column].replace(mapping)\n",
            "<ipython-input-132-cb4aa225aa9b>:146: FutureWarning: Downcasting behavior in `replace` is deprecated and will be removed in a future version. To retain the old behavior, explicitly call `result.infer_objects(copy=False)`. To opt-in to the future behavior, set `pd.set_option('future.no_silent_downcasting', True)`\n",
            "  y = y.replace({'ckd': 1, 'notckd': 0})\n"
          ]
        }
      ]
    },
    {
      "cell_type": "code",
      "source": [
        "print(\"X shape:\", X.shape)\n",
        "print(\"Sample features (X):\")\n",
        "print(X.head())\n",
        "\n",
        "\n",
        "print(\"\\nY shape:\", y.shape)\n",
        "print(\"Sample target (y):\")\n",
        "print(y.head())"
      ],
      "metadata": {
        "colab": {
          "base_uri": "https://localhost:8080/"
        },
        "id": "4FToRAgrXcpM",
        "outputId": "1f39d521-c275-4f7f-d914-01d211836cf4"
      },
      "execution_count": null,
      "outputs": [
        {
          "output_type": "stream",
          "name": "stdout",
          "text": [
            "X shape: (200, 28)\n",
            "Sample features (X):\n",
            "   bp (Diastolic)  bp limit     sg  al  rbc  su  pc  pcc  ba  bgr  ...  htn  \\\n",
            "0               0         0  1.020   1    0   0   0    0   0  112  ...    0   \n",
            "1               0         0  1.010   0    0   0   0    0   0  133  ...    0   \n",
            "2               0         0  1.010   4    1   0   1    0   1  112  ...    0   \n",
            "3               1         1  1.010   3    0   0   0    0   0  133  ...    0   \n",
            "4               0         0  1.016   0    0   0   0    0   0  175  ...    0   \n",
            "\n",
            "   dm  cad  appet  pe ane      grf  stage  affected  age  \n",
            "0   0    0      0   0   0  227.944      1         1   12  \n",
            "1   0    0      0   0   0  227.944      1         1   12  \n",
            "2   0    0      1   0   0  127.281      1         1   12  \n",
            "3   0    0      0   0   0  127.281      1         1   12  \n",
            "4   1    0      1   1   0  127.281      1         1   18  \n",
            "\n",
            "[5 rows x 28 columns]\n",
            "\n",
            "Y shape: (200, 1)\n",
            "Sample target (y):\n",
            "   class\n",
            "0      1\n",
            "1      1\n",
            "2      1\n",
            "3      1\n",
            "4      1\n"
          ]
        }
      ]
    },
    {
      "cell_type": "code",
      "source": [
        "categorical_cols = X.select_dtypes(include=['object']).columns\n",
        "numeric_cols = X.select_dtypes(include=[np.number]).columns\n",
        "\n",
        "print(\"\\nCategorical columns:\", categorical_cols)\n",
        "print(\"Numeric columns:\", numeric_cols)"
      ],
      "metadata": {
        "colab": {
          "base_uri": "https://localhost:8080/"
        },
        "id": "G5ABFm7DfMBi",
        "outputId": "f4865b6a-7235-4a23-a9b8-7eeb21155f4a"
      },
      "execution_count": null,
      "outputs": [
        {
          "output_type": "stream",
          "name": "stdout",
          "text": [
            "\n",
            "Categorical columns: Index(['pcv'], dtype='object')\n",
            "Numeric columns: Index(['bp (Diastolic)', 'bp limit', 'sg', 'al', 'rbc', 'su', 'pc', 'pcc',\n",
            "       'ba', 'bgr', 'bu', 'sod', 'sc', 'pot', 'hemo', 'rbcc', 'wbcc', 'htn',\n",
            "       'dm', 'cad', 'appet', 'pe', 'ane', 'grf', 'stage', 'affected', 'age'],\n",
            "      dtype='object')\n"
          ]
        }
      ]
    },
    {
      "cell_type": "code",
      "source": [
        "categorical_imputer = SimpleImputer(strategy='most_frequent')\n",
        "X[categorical_cols] = categorical_imputer.fit_transform(X[categorical_cols])\n",
        "\n",
        "numeric_imputer = SimpleImputer(strategy='mean')\n",
        "X[numeric_cols] = numeric_imputer.fit_transform(X[numeric_cols])"
      ],
      "metadata": {
        "id": "EjtFqY-WfO0x",
        "colab": {
          "base_uri": "https://localhost:8080/"
        },
        "outputId": "de7331e1-7d4d-449b-9ffe-d36d464c7652"
      },
      "execution_count": null,
      "outputs": [
        {
          "output_type": "stream",
          "name": "stderr",
          "text": [
            "<ipython-input-135-2c8cfbdfb793>:2: SettingWithCopyWarning: \n",
            "A value is trying to be set on a copy of a slice from a DataFrame.\n",
            "Try using .loc[row_indexer,col_indexer] = value instead\n",
            "\n",
            "See the caveats in the documentation: https://pandas.pydata.org/pandas-docs/stable/user_guide/indexing.html#returning-a-view-versus-a-copy\n",
            "  X[categorical_cols] = categorical_imputer.fit_transform(X[categorical_cols])\n",
            "<ipython-input-135-2c8cfbdfb793>:5: SettingWithCopyWarning: \n",
            "A value is trying to be set on a copy of a slice from a DataFrame.\n",
            "Try using .loc[row_indexer,col_indexer] = value instead\n",
            "\n",
            "See the caveats in the documentation: https://pandas.pydata.org/pandas-docs/stable/user_guide/indexing.html#returning-a-view-versus-a-copy\n",
            "  X[numeric_cols] = numeric_imputer.fit_transform(X[numeric_cols])\n"
          ]
        }
      ]
    },
    {
      "cell_type": "code",
      "source": [
        "for col in categorical_cols:\n",
        "    encoder = LabelEncoder()\n",
        "    X[col] = encoder.fit_transform(X[col])"
      ],
      "metadata": {
        "id": "RZ5D5oeefc4Q",
        "colab": {
          "base_uri": "https://localhost:8080/"
        },
        "outputId": "20b7e53a-24ce-4879-c659-4b613437c48e"
      },
      "execution_count": null,
      "outputs": [
        {
          "output_type": "stream",
          "name": "stderr",
          "text": [
            "<ipython-input-136-2c01dfe54073>:3: SettingWithCopyWarning: \n",
            "A value is trying to be set on a copy of a slice from a DataFrame.\n",
            "Try using .loc[row_indexer,col_indexer] = value instead\n",
            "\n",
            "See the caveats in the documentation: https://pandas.pydata.org/pandas-docs/stable/user_guide/indexing.html#returning-a-view-versus-a-copy\n",
            "  X[col] = encoder.fit_transform(X[col])\n"
          ]
        }
      ]
    },
    {
      "cell_type": "code",
      "source": [
        "print(X.head(10))\n",
        "print(y.head(6))"
      ],
      "metadata": {
        "colab": {
          "base_uri": "https://localhost:8080/"
        },
        "id": "-wzvrOgYg4pn",
        "outputId": "9be3b33b-2aa5-43e0-d370-ea5518b9308e"
      },
      "execution_count": null,
      "outputs": [
        {
          "output_type": "stream",
          "name": "stdout",
          "text": [
            "   bp (Diastolic)  bp limit     sg   al  rbc   su   pc  pcc   ba    bgr  ...  \\\n",
            "0             0.0       0.0  1.020  1.0  0.0  0.0  0.0  0.0  0.0  112.0  ...   \n",
            "1             0.0       0.0  1.010  0.0  0.0  0.0  0.0  0.0  0.0  133.0  ...   \n",
            "2             0.0       0.0  1.010  4.0  1.0  0.0  1.0  0.0  1.0  112.0  ...   \n",
            "3             1.0       1.0  1.010  3.0  0.0  0.0  0.0  0.0  0.0  133.0  ...   \n",
            "4             0.0       0.0  1.016  0.0  0.0  0.0  0.0  0.0  0.0  175.0  ...   \n",
            "5             1.0       1.0  1.023  0.0  0.0  0.0  0.0  0.0  0.0  112.0  ...   \n",
            "6             0.0       0.0  1.020  3.0  0.0  0.0  0.0  0.0  0.0  112.0  ...   \n",
            "7             0.0       0.0  1.020  0.0  0.0  0.0  0.0  0.0  0.0  133.0  ...   \n",
            "8             0.0       0.0  1.023  0.0  0.0  0.0  0.0  0.0  0.0  133.0  ...   \n",
            "9             1.0       2.0  1.010  4.0  0.0  0.0  1.0  1.0  1.0  112.0  ...   \n",
            "\n",
            "   htn   dm  cad  appet   pe  ane       grf  stage  affected   age  \n",
            "0  0.0  0.0  0.0    0.0  0.0  0.0  227.9440    1.0       1.0  12.0  \n",
            "1  0.0  0.0  0.0    0.0  0.0  0.0  227.9440    1.0       1.0  12.0  \n",
            "2  0.0  0.0  0.0    1.0  0.0  0.0  127.2810    1.0       1.0  12.0  \n",
            "3  0.0  0.0  0.0    0.0  0.0  0.0  127.2810    1.0       1.0  12.0  \n",
            "4  0.0  1.0  0.0    1.0  1.0  0.0  127.2810    1.0       1.0  18.0  \n",
            "5  0.0  0.0  0.0    0.0  0.0  0.0  102.1150    1.0       0.0  18.0  \n",
            "6  1.0  1.0  0.0    0.0  0.0  0.0  177.6120    1.0       1.0  18.0  \n",
            "7  0.0  0.0  0.0    0.0  0.0  0.0   26.6175    4.0       1.0  18.0  \n",
            "8  0.0  0.0  0.0    0.0  0.0  0.0   26.6175    4.0       0.0  15.0  \n",
            "9  0.0  0.0  0.0    0.0  0.0  1.0   51.7832    3.0       1.0  15.0  \n",
            "\n",
            "[10 rows x 28 columns]\n",
            "   class\n",
            "0      1\n",
            "1      1\n",
            "2      1\n",
            "3      1\n",
            "4      1\n",
            "5      0\n"
          ]
        }
      ]
    },
    {
      "cell_type": "code",
      "source": [
        "smote = SMOTE(sampling_strategy='auto', random_state=42)\n",
        "X_resampled, y_resampled = smote.fit_resample(X, y)\n",
        "\n",
        "df_resampled = pd.DataFrame(X_resampled, columns=X.columns)\n",
        "df_resampled['class'] = y_resampled"
      ],
      "metadata": {
        "id": "MuiihYo0fqby"
      },
      "execution_count": null,
      "outputs": []
    },
    {
      "cell_type": "code",
      "source": [
        "\n",
        "desired_samples = 1350\n",
        "\n",
        "current_samples = len(df_resampled)\n",
        "\n",
        "if current_samples < desired_samples:\n",
        "    additional_samples_needed = desired_samples - current_samples\n",
        "\n",
        "    class_counts = df_resampled['class'].value_counts()\n",
        "    minority_class = class_counts.idxmin()\n",
        "    print(f\"Thiếu {additional_samples_needed} mẫu. Lớp nhỏ nhất: {minority_class}\")\n",
        "\n",
        "    smote_ratio = {minority_class: class_counts[minority_class] + additional_samples_needed}\n",
        "    smote = SMOTE(sampling_strategy=smote_ratio, random_state=42)\n",
        "\n",
        "    try:\n",
        "        X_resampled, y_resampled = smote.fit_resample(X_resampled, y_resampled)\n",
        "    except ValueError as e:\n",
        "        print(f\"Không thể tạo thêm mẫu với SMOTE: {e}\")\n",
        "        extra_samples = df_resampled.sample(additional_samples_needed, replace=True, random_state=42)\n",
        "        df_resampled = pd.concat([df_resampled, extra_samples], ignore_index=True)\n",
        "    else:\n",
        "        df_resampled = pd.DataFrame(X_resampled, columns=X.columns)\n",
        "        df_resampled['class'] = y_resampled\n",
        "\n",
        "print(f\"Tổng số mẫu cuối cùng: {len(df_resampled)}\")"
      ],
      "metadata": {
        "colab": {
          "base_uri": "https://localhost:8080/"
        },
        "id": "wHZsUD2Q92I8",
        "outputId": "1498b64e-7b59-4a6f-b3a0-35417a78e9f2"
      },
      "execution_count": null,
      "outputs": [
        {
          "output_type": "stream",
          "name": "stdout",
          "text": [
            "Thiếu 1094 mẫu. Lớp nhỏ nhất: 1\n",
            "Tổng số mẫu cuối cùng: 1350\n"
          ]
        }
      ]
    },
    {
      "cell_type": "code",
      "source": [
        "X_train, X_test, y_train, y_test = train_test_split(X_resampled, y_resampled, test_size=0.3, random_state=3)\n",
        "\n",
        "print(\"Train set shape:\", X_train.shape)\n",
        "print(\"Test set shape:\", X_test.shape)\n",
        "print(\"Train target shape:\", y_train.shape)\n",
        "print(\"Test target shape:\", y_test.shape)"
      ],
      "metadata": {
        "id": "lpLmF76DfxWZ",
        "colab": {
          "base_uri": "https://localhost:8080/"
        },
        "outputId": "ead474c2-202a-4187-c250-73a5cd06b389"
      },
      "execution_count": null,
      "outputs": [
        {
          "output_type": "stream",
          "name": "stdout",
          "text": [
            "Train set shape: (945, 28)\n",
            "Test set shape: (405, 28)\n",
            "Train target shape: (945, 1)\n",
            "Test target shape: (405, 1)\n"
          ]
        }
      ]
    },
    {
      "cell_type": "markdown",
      "source": [
        "# Apply Neurol Network MultilayerPerceptron"
      ],
      "metadata": {
        "id": "nbuqzWQuEPRV"
      }
    },
    {
      "cell_type": "code",
      "source": [
        "model = Sequential()\n",
        "model.add(Dense(32, input_dim=X_train.shape[1], activation='relu', kernel_regularizer=regularizers.l2(0.01)))\n",
        "model.add(Dropout(0.3))\n",
        "model.add(Dense(16, activation='relu', kernel_regularizer=regularizers.l2(0.01)))\n",
        "model.add(Dropout(0.3))\n",
        "model.add(Dense(1, activation='sigmoid'))\n",
        "\n",
        "model.summary()\n",
        "\n",
        "model.compile(optimizer='adam', loss='binary_crossentropy', metrics=['accuracy'])\n",
        "\n",
        "checkpoint_filepath = 'best_model.keras'\n",
        "model_checkpoint_callback = ModelCheckpoint(\n",
        "    filepath=checkpoint_filepath,\n",
        "    save_weights_only=False,\n",
        "    monitor='val_accuracy',\n",
        "    mode='max',\n",
        "    save_best_only=True)\n",
        "\n",
        "history = model.fit(X_train, y_train, batch_size=256, epochs=60, validation_data=(X_test, y_test), callbacks=[model_checkpoint_callback])\n",
        "\n",
        "best_model = keras.models.load_model(checkpoint_filepath)\n",
        "\n",
        "y_pred_probs = best_model.predict(X_test)\n",
        "y_pred_classes = (y_pred_probs > 0.5).astype(int).flatten()\n",
        "y_test_classes = y_test.to_numpy()\n",
        "\n",
        "accuracy_NN = accuracy_score(y_test_classes, y_pred_classes)\n",
        "precision_NN = precision_score(y_test_classes, y_pred_classes, average='weighted')\n",
        "recall_NN = recall_score(y_test_classes, y_pred_classes, average='weighted')\n",
        "f1_NN = f1_score(y_test_classes, y_pred_classes, average='weighted')\n",
        "fpr_NN, tpr_NN, thresholds_NN = roc_curve(y_test_classes, y_pred_classes, pos_label=1)\n",
        "roc_auc_NN = auc(fpr_NN, tpr_NN)\n",
        "\n",
        "\n",
        "score = best_model.evaluate(X_test, y_test, verbose=0)\n",
        "print('Test loss:', score[0])\n",
        "print('Test accuracy:', score[1])\n",
        "print('Accuracy:', accuracy_NN)\n",
        "print('Precision:', precision_NN)\n",
        "print('Recall:', recall_NN)\n",
        "print('F1 Score:', f1_NN)\n",
        "print(\"AUC:\", roc_auc_NN)"
      ],
      "metadata": {
        "colab": {
          "base_uri": "https://localhost:8080/",
          "height": 1000
        },
        "id": "5D9j0FJvwlG4",
        "outputId": "3667fc54-e232-4d11-f9fb-89ea1354a74f"
      },
      "execution_count": null,
      "outputs": [
        {
          "output_type": "stream",
          "name": "stderr",
          "text": [
            "/usr/local/lib/python3.11/dist-packages/keras/src/layers/core/dense.py:87: UserWarning: Do not pass an `input_shape`/`input_dim` argument to a layer. When using Sequential models, prefer using an `Input(shape)` object as the first layer in the model instead.\n",
            "  super().__init__(activity_regularizer=activity_regularizer, **kwargs)\n"
          ]
        },
        {
          "output_type": "display_data",
          "data": {
            "text/plain": [
              "\u001b[1mModel: \"sequential_10\"\u001b[0m\n"
            ],
            "text/html": [
              "<pre style=\"white-space:pre;overflow-x:auto;line-height:normal;font-family:Menlo,'DejaVu Sans Mono',consolas,'Courier New',monospace\"><span style=\"font-weight: bold\">Model: \"sequential_10\"</span>\n",
              "</pre>\n"
            ]
          },
          "metadata": {}
        },
        {
          "output_type": "display_data",
          "data": {
            "text/plain": [
              "┏━━━━━━━━━━━━━━━━━━━━━━━━━━━━━━━━━━━━━━┳━━━━━━━━━━━━━━━━━━━━━━━━━━━━━┳━━━━━━━━━━━━━━━━━┓\n",
              "┃\u001b[1m \u001b[0m\u001b[1mLayer (type)                        \u001b[0m\u001b[1m \u001b[0m┃\u001b[1m \u001b[0m\u001b[1mOutput Shape               \u001b[0m\u001b[1m \u001b[0m┃\u001b[1m \u001b[0m\u001b[1m        Param #\u001b[0m\u001b[1m \u001b[0m┃\n",
              "┡━━━━━━━━━━━━━━━━━━━━━━━━━━━━━━━━━━━━━━╇━━━━━━━━━━━━━━━━━━━━━━━━━━━━━╇━━━━━━━━━━━━━━━━━┩\n",
              "│ dense_30 (\u001b[38;5;33mDense\u001b[0m)                     │ (\u001b[38;5;45mNone\u001b[0m, \u001b[38;5;34m32\u001b[0m)                  │             \u001b[38;5;34m928\u001b[0m │\n",
              "├──────────────────────────────────────┼─────────────────────────────┼─────────────────┤\n",
              "│ dropout_20 (\u001b[38;5;33mDropout\u001b[0m)                 │ (\u001b[38;5;45mNone\u001b[0m, \u001b[38;5;34m32\u001b[0m)                  │               \u001b[38;5;34m0\u001b[0m │\n",
              "├──────────────────────────────────────┼─────────────────────────────┼─────────────────┤\n",
              "│ dense_31 (\u001b[38;5;33mDense\u001b[0m)                     │ (\u001b[38;5;45mNone\u001b[0m, \u001b[38;5;34m16\u001b[0m)                  │             \u001b[38;5;34m528\u001b[0m │\n",
              "├──────────────────────────────────────┼─────────────────────────────┼─────────────────┤\n",
              "│ dropout_21 (\u001b[38;5;33mDropout\u001b[0m)                 │ (\u001b[38;5;45mNone\u001b[0m, \u001b[38;5;34m16\u001b[0m)                  │               \u001b[38;5;34m0\u001b[0m │\n",
              "├──────────────────────────────────────┼─────────────────────────────┼─────────────────┤\n",
              "│ dense_32 (\u001b[38;5;33mDense\u001b[0m)                     │ (\u001b[38;5;45mNone\u001b[0m, \u001b[38;5;34m1\u001b[0m)                   │              \u001b[38;5;34m17\u001b[0m │\n",
              "└──────────────────────────────────────┴─────────────────────────────┴─────────────────┘\n"
            ],
            "text/html": [
              "<pre style=\"white-space:pre;overflow-x:auto;line-height:normal;font-family:Menlo,'DejaVu Sans Mono',consolas,'Courier New',monospace\">┏━━━━━━━━━━━━━━━━━━━━━━━━━━━━━━━━━━━━━━┳━━━━━━━━━━━━━━━━━━━━━━━━━━━━━┳━━━━━━━━━━━━━━━━━┓\n",
              "┃<span style=\"font-weight: bold\"> Layer (type)                         </span>┃<span style=\"font-weight: bold\"> Output Shape                </span>┃<span style=\"font-weight: bold\">         Param # </span>┃\n",
              "┡━━━━━━━━━━━━━━━━━━━━━━━━━━━━━━━━━━━━━━╇━━━━━━━━━━━━━━━━━━━━━━━━━━━━━╇━━━━━━━━━━━━━━━━━┩\n",
              "│ dense_30 (<span style=\"color: #0087ff; text-decoration-color: #0087ff\">Dense</span>)                     │ (<span style=\"color: #00d7ff; text-decoration-color: #00d7ff\">None</span>, <span style=\"color: #00af00; text-decoration-color: #00af00\">32</span>)                  │             <span style=\"color: #00af00; text-decoration-color: #00af00\">928</span> │\n",
              "├──────────────────────────────────────┼─────────────────────────────┼─────────────────┤\n",
              "│ dropout_20 (<span style=\"color: #0087ff; text-decoration-color: #0087ff\">Dropout</span>)                 │ (<span style=\"color: #00d7ff; text-decoration-color: #00d7ff\">None</span>, <span style=\"color: #00af00; text-decoration-color: #00af00\">32</span>)                  │               <span style=\"color: #00af00; text-decoration-color: #00af00\">0</span> │\n",
              "├──────────────────────────────────────┼─────────────────────────────┼─────────────────┤\n",
              "│ dense_31 (<span style=\"color: #0087ff; text-decoration-color: #0087ff\">Dense</span>)                     │ (<span style=\"color: #00d7ff; text-decoration-color: #00d7ff\">None</span>, <span style=\"color: #00af00; text-decoration-color: #00af00\">16</span>)                  │             <span style=\"color: #00af00; text-decoration-color: #00af00\">528</span> │\n",
              "├──────────────────────────────────────┼─────────────────────────────┼─────────────────┤\n",
              "│ dropout_21 (<span style=\"color: #0087ff; text-decoration-color: #0087ff\">Dropout</span>)                 │ (<span style=\"color: #00d7ff; text-decoration-color: #00d7ff\">None</span>, <span style=\"color: #00af00; text-decoration-color: #00af00\">16</span>)                  │               <span style=\"color: #00af00; text-decoration-color: #00af00\">0</span> │\n",
              "├──────────────────────────────────────┼─────────────────────────────┼─────────────────┤\n",
              "│ dense_32 (<span style=\"color: #0087ff; text-decoration-color: #0087ff\">Dense</span>)                     │ (<span style=\"color: #00d7ff; text-decoration-color: #00d7ff\">None</span>, <span style=\"color: #00af00; text-decoration-color: #00af00\">1</span>)                   │              <span style=\"color: #00af00; text-decoration-color: #00af00\">17</span> │\n",
              "└──────────────────────────────────────┴─────────────────────────────┴─────────────────┘\n",
              "</pre>\n"
            ]
          },
          "metadata": {}
        },
        {
          "output_type": "display_data",
          "data": {
            "text/plain": [
              "\u001b[1m Total params: \u001b[0m\u001b[38;5;34m1,473\u001b[0m (5.75 KB)\n"
            ],
            "text/html": [
              "<pre style=\"white-space:pre;overflow-x:auto;line-height:normal;font-family:Menlo,'DejaVu Sans Mono',consolas,'Courier New',monospace\"><span style=\"font-weight: bold\"> Total params: </span><span style=\"color: #00af00; text-decoration-color: #00af00\">1,473</span> (5.75 KB)\n",
              "</pre>\n"
            ]
          },
          "metadata": {}
        },
        {
          "output_type": "display_data",
          "data": {
            "text/plain": [
              "\u001b[1m Trainable params: \u001b[0m\u001b[38;5;34m1,473\u001b[0m (5.75 KB)\n"
            ],
            "text/html": [
              "<pre style=\"white-space:pre;overflow-x:auto;line-height:normal;font-family:Menlo,'DejaVu Sans Mono',consolas,'Courier New',monospace\"><span style=\"font-weight: bold\"> Trainable params: </span><span style=\"color: #00af00; text-decoration-color: #00af00\">1,473</span> (5.75 KB)\n",
              "</pre>\n"
            ]
          },
          "metadata": {}
        },
        {
          "output_type": "display_data",
          "data": {
            "text/plain": [
              "\u001b[1m Non-trainable params: \u001b[0m\u001b[38;5;34m0\u001b[0m (0.00 B)\n"
            ],
            "text/html": [
              "<pre style=\"white-space:pre;overflow-x:auto;line-height:normal;font-family:Menlo,'DejaVu Sans Mono',consolas,'Courier New',monospace\"><span style=\"font-weight: bold\"> Non-trainable params: </span><span style=\"color: #00af00; text-decoration-color: #00af00\">0</span> (0.00 B)\n",
              "</pre>\n"
            ]
          },
          "metadata": {}
        },
        {
          "output_type": "stream",
          "name": "stdout",
          "text": [
            "Epoch 1/60\n",
            "\u001b[1m4/4\u001b[0m \u001b[32m━━━━━━━━━━━━━━━━━━━━\u001b[0m\u001b[37m\u001b[0m \u001b[1m3s\u001b[0m 149ms/step - accuracy: 0.2915 - loss: 1113.4130 - val_accuracy: 0.1012 - val_loss: 835.5567\n",
            "Epoch 2/60\n",
            "\u001b[1m4/4\u001b[0m \u001b[32m━━━━━━━━━━━━━━━━━━━━\u001b[0m\u001b[37m\u001b[0m \u001b[1m0s\u001b[0m 23ms/step - accuracy: 0.3502 - loss: 965.5055 - val_accuracy: 0.1012 - val_loss: 542.8469\n",
            "Epoch 3/60\n",
            "\u001b[1m4/4\u001b[0m \u001b[32m━━━━━━━━━━━━━━━━━━━━\u001b[0m\u001b[37m\u001b[0m \u001b[1m0s\u001b[0m 66ms/step - accuracy: 0.4099 - loss: 769.7046 - val_accuracy: 0.1062 - val_loss: 234.0201\n",
            "Epoch 4/60\n",
            "\u001b[1m4/4\u001b[0m \u001b[32m━━━━━━━━━━━━━━━━━━━━\u001b[0m\u001b[37m\u001b[0m \u001b[1m0s\u001b[0m 58ms/step - accuracy: 0.4546 - loss: 572.9254 - val_accuracy: 0.8864 - val_loss: 6.4325\n",
            "Epoch 5/60\n",
            "\u001b[1m4/4\u001b[0m \u001b[32m━━━━━━━━━━━━━━━━━━━━\u001b[0m\u001b[37m\u001b[0m \u001b[1m0s\u001b[0m 44ms/step - accuracy: 0.5300 - loss: 472.6394 - val_accuracy: 0.8988 - val_loss: 31.1315\n",
            "Epoch 6/60\n",
            "\u001b[1m4/4\u001b[0m \u001b[32m━━━━━━━━━━━━━━━━━━━━\u001b[0m\u001b[37m\u001b[0m \u001b[1m0s\u001b[0m 47ms/step - accuracy: 0.6084 - loss: 403.7984 - val_accuracy: 0.8988 - val_loss: 52.1520\n",
            "Epoch 7/60\n",
            "\u001b[1m4/4\u001b[0m \u001b[32m━━━━━━━━━━━━━━━━━━━━\u001b[0m\u001b[37m\u001b[0m \u001b[1m0s\u001b[0m 58ms/step - accuracy: 0.6602 - loss: 306.8199 - val_accuracy: 0.8988 - val_loss: 70.9135\n",
            "Epoch 8/60\n",
            "\u001b[1m4/4\u001b[0m \u001b[32m━━━━━━━━━━━━━━━━━━━━\u001b[0m\u001b[37m\u001b[0m \u001b[1m0s\u001b[0m 79ms/step - accuracy: 0.6911 - loss: 275.6828 - val_accuracy: 0.8988 - val_loss: 86.5083\n",
            "Epoch 9/60\n",
            "\u001b[1m4/4\u001b[0m \u001b[32m━━━━━━━━━━━━━━━━━━━━\u001b[0m\u001b[37m\u001b[0m \u001b[1m1s\u001b[0m 75ms/step - accuracy: 0.7328 - loss: 218.1261 - val_accuracy: 0.8988 - val_loss: 99.9192\n",
            "Epoch 10/60\n",
            "\u001b[1m4/4\u001b[0m \u001b[32m━━━━━━━━━━━━━━━━━━━━\u001b[0m\u001b[37m\u001b[0m \u001b[1m1s\u001b[0m 57ms/step - accuracy: 0.7523 - loss: 229.0488 - val_accuracy: 0.8988 - val_loss: 110.8293\n",
            "Epoch 11/60\n",
            "\u001b[1m4/4\u001b[0m \u001b[32m━━━━━━━━━━━━━━━━━━━━\u001b[0m\u001b[37m\u001b[0m \u001b[1m0s\u001b[0m 56ms/step - accuracy: 0.7878 - loss: 218.4558 - val_accuracy: 0.8988 - val_loss: 119.5194\n",
            "Epoch 12/60\n",
            "\u001b[1m4/4\u001b[0m \u001b[32m━━━━━━━━━━━━━━━━━━━━\u001b[0m\u001b[37m\u001b[0m \u001b[1m1s\u001b[0m 43ms/step - accuracy: 0.8000 - loss: 202.7765 - val_accuracy: 0.8988 - val_loss: 125.5162\n",
            "Epoch 13/60\n",
            "\u001b[1m4/4\u001b[0m \u001b[32m━━━━━━━━━━━━━━━━━━━━\u001b[0m\u001b[37m\u001b[0m \u001b[1m0s\u001b[0m 48ms/step - accuracy: 0.7485 - loss: 238.6873 - val_accuracy: 0.8988 - val_loss: 129.9178\n",
            "Epoch 14/60\n",
            "\u001b[1m4/4\u001b[0m \u001b[32m━━━━━━━━━━━━━━━━━━━━\u001b[0m\u001b[37m\u001b[0m \u001b[1m1s\u001b[0m 63ms/step - accuracy: 0.8020 - loss: 205.1485 - val_accuracy: 0.8988 - val_loss: 132.7786\n",
            "Epoch 15/60\n",
            "\u001b[1m4/4\u001b[0m \u001b[32m━━━━━━━━━━━━━━━━━━━━\u001b[0m\u001b[37m\u001b[0m \u001b[1m0s\u001b[0m 27ms/step - accuracy: 0.7966 - loss: 200.7138 - val_accuracy: 0.8988 - val_loss: 134.7136\n",
            "Epoch 16/60\n",
            "\u001b[1m4/4\u001b[0m \u001b[32m━━━━━━━━━━━━━━━━━━━━\u001b[0m\u001b[37m\u001b[0m \u001b[1m0s\u001b[0m 26ms/step - accuracy: 0.8059 - loss: 211.1506 - val_accuracy: 0.8988 - val_loss: 135.4795\n",
            "Epoch 17/60\n",
            "\u001b[1m4/4\u001b[0m \u001b[32m━━━━━━━━━━━━━━━━━━━━\u001b[0m\u001b[37m\u001b[0m \u001b[1m0s\u001b[0m 25ms/step - accuracy: 0.8202 - loss: 233.5430 - val_accuracy: 0.8988 - val_loss: 133.8140\n",
            "Epoch 18/60\n",
            "\u001b[1m4/4\u001b[0m \u001b[32m━━━━━━━━━━━━━━━━━━━━\u001b[0m\u001b[37m\u001b[0m \u001b[1m0s\u001b[0m 39ms/step - accuracy: 0.8022 - loss: 205.6931 - val_accuracy: 0.8988 - val_loss: 131.4448\n",
            "Epoch 19/60\n",
            "\u001b[1m4/4\u001b[0m \u001b[32m━━━━━━━━━━━━━━━━━━━━\u001b[0m\u001b[37m\u001b[0m \u001b[1m0s\u001b[0m 48ms/step - accuracy: 0.8007 - loss: 205.6268 - val_accuracy: 0.8988 - val_loss: 128.9971\n",
            "Epoch 20/60\n",
            "\u001b[1m4/4\u001b[0m \u001b[32m━━━━━━━━━━━━━━━━━━━━\u001b[0m\u001b[37m\u001b[0m \u001b[1m0s\u001b[0m 22ms/step - accuracy: 0.8082 - loss: 170.8650 - val_accuracy: 0.8988 - val_loss: 126.7048\n",
            "Epoch 21/60\n",
            "\u001b[1m4/4\u001b[0m \u001b[32m━━━━━━━━━━━━━━━━━━━━\u001b[0m\u001b[37m\u001b[0m \u001b[1m0s\u001b[0m 52ms/step - accuracy: 0.8152 - loss: 171.8370 - val_accuracy: 0.8988 - val_loss: 124.2183\n",
            "Epoch 22/60\n",
            "\u001b[1m4/4\u001b[0m \u001b[32m━━━━━━━━━━━━━━━━━━━━\u001b[0m\u001b[37m\u001b[0m \u001b[1m0s\u001b[0m 38ms/step - accuracy: 0.8012 - loss: 203.2843 - val_accuracy: 0.8988 - val_loss: 121.7073\n",
            "Epoch 23/60\n",
            "\u001b[1m4/4\u001b[0m \u001b[32m━━━━━━━━━━━━━━━━━━━━\u001b[0m\u001b[37m\u001b[0m \u001b[1m0s\u001b[0m 36ms/step - accuracy: 0.7923 - loss: 186.1156 - val_accuracy: 0.8988 - val_loss: 119.5685\n",
            "Epoch 24/60\n",
            "\u001b[1m4/4\u001b[0m \u001b[32m━━━━━━━━━━━━━━━━━━━━\u001b[0m\u001b[37m\u001b[0m \u001b[1m0s\u001b[0m 27ms/step - accuracy: 0.8319 - loss: 156.5217 - val_accuracy: 0.8988 - val_loss: 117.1072\n",
            "Epoch 25/60\n",
            "\u001b[1m4/4\u001b[0m \u001b[32m━━━━━━━━━━━━━━━━━━━━\u001b[0m\u001b[37m\u001b[0m \u001b[1m0s\u001b[0m 29ms/step - accuracy: 0.8057 - loss: 169.6379 - val_accuracy: 0.8988 - val_loss: 114.2097\n",
            "Epoch 26/60\n",
            "\u001b[1m4/4\u001b[0m \u001b[32m━━━━━━━━━━━━━━━━━━━━\u001b[0m\u001b[37m\u001b[0m \u001b[1m0s\u001b[0m 23ms/step - accuracy: 0.8185 - loss: 164.5406 - val_accuracy: 0.8988 - val_loss: 110.8976\n",
            "Epoch 27/60\n",
            "\u001b[1m4/4\u001b[0m \u001b[32m━━━━━━━━━━━━━━━━━━━━\u001b[0m\u001b[37m\u001b[0m \u001b[1m0s\u001b[0m 26ms/step - accuracy: 0.8148 - loss: 147.4218 - val_accuracy: 0.8988 - val_loss: 108.3526\n",
            "Epoch 28/60\n",
            "\u001b[1m4/4\u001b[0m \u001b[32m━━━━━━━━━━━━━━━━━━━━\u001b[0m\u001b[37m\u001b[0m \u001b[1m0s\u001b[0m 25ms/step - accuracy: 0.8101 - loss: 143.7363 - val_accuracy: 0.8988 - val_loss: 106.2657\n",
            "Epoch 29/60\n",
            "\u001b[1m4/4\u001b[0m \u001b[32m━━━━━━━━━━━━━━━━━━━━\u001b[0m\u001b[37m\u001b[0m \u001b[1m0s\u001b[0m 33ms/step - accuracy: 0.8024 - loss: 166.9620 - val_accuracy: 0.8988 - val_loss: 103.9287\n",
            "Epoch 30/60\n",
            "\u001b[1m4/4\u001b[0m \u001b[32m━━━━━━━━━━━━━━━━━━━━\u001b[0m\u001b[37m\u001b[0m \u001b[1m0s\u001b[0m 24ms/step - accuracy: 0.8279 - loss: 137.6378 - val_accuracy: 0.8988 - val_loss: 101.5928\n",
            "Epoch 31/60\n",
            "\u001b[1m4/4\u001b[0m \u001b[32m━━━━━━━━━━━━━━━━━━━━\u001b[0m\u001b[37m\u001b[0m \u001b[1m0s\u001b[0m 25ms/step - accuracy: 0.8092 - loss: 164.4551 - val_accuracy: 0.8988 - val_loss: 99.4801\n",
            "Epoch 32/60\n",
            "\u001b[1m4/4\u001b[0m \u001b[32m━━━━━━━━━━━━━━━━━━━━\u001b[0m\u001b[37m\u001b[0m \u001b[1m0s\u001b[0m 24ms/step - accuracy: 0.7813 - loss: 161.9749 - val_accuracy: 0.8988 - val_loss: 97.3406\n",
            "Epoch 33/60\n",
            "\u001b[1m4/4\u001b[0m \u001b[32m━━━━━━━━━━━━━━━━━━━━\u001b[0m\u001b[37m\u001b[0m \u001b[1m0s\u001b[0m 22ms/step - accuracy: 0.7964 - loss: 158.5323 - val_accuracy: 0.8988 - val_loss: 95.0707\n",
            "Epoch 34/60\n",
            "\u001b[1m4/4\u001b[0m \u001b[32m━━━━━━━━━━━━━━━━━━━━\u001b[0m\u001b[37m\u001b[0m \u001b[1m0s\u001b[0m 25ms/step - accuracy: 0.8182 - loss: 139.6734 - val_accuracy: 0.8988 - val_loss: 92.1553\n",
            "Epoch 35/60\n",
            "\u001b[1m4/4\u001b[0m \u001b[32m━━━━━━━━━━━━━━━━━━━━\u001b[0m\u001b[37m\u001b[0m \u001b[1m0s\u001b[0m 31ms/step - accuracy: 0.8215 - loss: 145.1590 - val_accuracy: 0.8988 - val_loss: 88.7951\n",
            "Epoch 36/60\n",
            "\u001b[1m4/4\u001b[0m \u001b[32m━━━━━━━━━━━━━━━━━━━━\u001b[0m\u001b[37m\u001b[0m \u001b[1m0s\u001b[0m 25ms/step - accuracy: 0.8246 - loss: 156.3709 - val_accuracy: 0.8988 - val_loss: 84.7785\n",
            "Epoch 37/60\n",
            "\u001b[1m4/4\u001b[0m \u001b[32m━━━━━━━━━━━━━━━━━━━━\u001b[0m\u001b[37m\u001b[0m \u001b[1m0s\u001b[0m 20ms/step - accuracy: 0.8144 - loss: 132.6062 - val_accuracy: 0.8988 - val_loss: 82.3319\n",
            "Epoch 38/60\n",
            "\u001b[1m4/4\u001b[0m \u001b[32m━━━━━━━━━━━━━━━━━━━━\u001b[0m\u001b[37m\u001b[0m \u001b[1m0s\u001b[0m 22ms/step - accuracy: 0.8327 - loss: 125.3882 - val_accuracy: 0.8988 - val_loss: 79.1332\n",
            "Epoch 39/60\n",
            "\u001b[1m4/4\u001b[0m \u001b[32m━━━━━━━━━━━━━━━━━━━━\u001b[0m\u001b[37m\u001b[0m \u001b[1m0s\u001b[0m 41ms/step - accuracy: 0.8187 - loss: 121.3292 - val_accuracy: 0.8988 - val_loss: 75.8390\n",
            "Epoch 40/60\n",
            "\u001b[1m4/4\u001b[0m \u001b[32m━━━━━━━━━━━━━━━━━━━━\u001b[0m\u001b[37m\u001b[0m \u001b[1m0s\u001b[0m 32ms/step - accuracy: 0.8318 - loss: 115.0900 - val_accuracy: 0.8988 - val_loss: 72.8452\n",
            "Epoch 41/60\n",
            "\u001b[1m4/4\u001b[0m \u001b[32m━━━━━━━━━━━━━━━━━━━━\u001b[0m\u001b[37m\u001b[0m \u001b[1m0s\u001b[0m 21ms/step - accuracy: 0.7996 - loss: 122.1509 - val_accuracy: 0.8988 - val_loss: 69.4869\n",
            "Epoch 42/60\n",
            "\u001b[1m4/4\u001b[0m \u001b[32m━━━━━━━━━━━━━━━━━━━━\u001b[0m\u001b[37m\u001b[0m \u001b[1m0s\u001b[0m 39ms/step - accuracy: 0.8181 - loss: 123.9344 - val_accuracy: 0.8988 - val_loss: 66.9587\n",
            "Epoch 43/60\n",
            "\u001b[1m4/4\u001b[0m \u001b[32m━━━━━━━━━━━━━━━━━━━━\u001b[0m\u001b[37m\u001b[0m \u001b[1m0s\u001b[0m 39ms/step - accuracy: 0.8144 - loss: 118.9364 - val_accuracy: 0.8988 - val_loss: 65.2862\n",
            "Epoch 44/60\n",
            "\u001b[1m4/4\u001b[0m \u001b[32m━━━━━━━━━━━━━━━━━━━━\u001b[0m\u001b[37m\u001b[0m \u001b[1m0s\u001b[0m 64ms/step - accuracy: 0.8157 - loss: 111.4189 - val_accuracy: 0.8988 - val_loss: 63.3687\n",
            "Epoch 45/60\n",
            "\u001b[1m4/4\u001b[0m \u001b[32m━━━━━━━━━━━━━━━━━━━━\u001b[0m\u001b[37m\u001b[0m \u001b[1m0s\u001b[0m 29ms/step - accuracy: 0.8222 - loss: 113.5139 - val_accuracy: 0.8988 - val_loss: 60.6806\n",
            "Epoch 46/60\n",
            "\u001b[1m4/4\u001b[0m \u001b[32m━━━━━━━━━━━━━━━━━━━━\u001b[0m\u001b[37m\u001b[0m \u001b[1m0s\u001b[0m 22ms/step - accuracy: 0.8143 - loss: 122.5575 - val_accuracy: 0.8988 - val_loss: 57.2033\n",
            "Epoch 47/60\n",
            "\u001b[1m4/4\u001b[0m \u001b[32m━━━━━━━━━━━━━━━━━━━━\u001b[0m\u001b[37m\u001b[0m \u001b[1m0s\u001b[0m 34ms/step - accuracy: 0.8117 - loss: 101.9542 - val_accuracy: 0.8988 - val_loss: 54.2129\n",
            "Epoch 48/60\n",
            "\u001b[1m4/4\u001b[0m \u001b[32m━━━━━━━━━━━━━━━━━━━━\u001b[0m\u001b[37m\u001b[0m \u001b[1m0s\u001b[0m 34ms/step - accuracy: 0.8147 - loss: 100.1312 - val_accuracy: 0.8988 - val_loss: 50.8705\n",
            "Epoch 49/60\n",
            "\u001b[1m4/4\u001b[0m \u001b[32m━━━━━━━━━━━━━━━━━━━━\u001b[0m\u001b[37m\u001b[0m \u001b[1m0s\u001b[0m 38ms/step - accuracy: 0.8063 - loss: 102.3457 - val_accuracy: 0.8988 - val_loss: 48.2692\n",
            "Epoch 50/60\n",
            "\u001b[1m4/4\u001b[0m \u001b[32m━━━━━━━━━━━━━━━━━━━━\u001b[0m\u001b[37m\u001b[0m \u001b[1m0s\u001b[0m 35ms/step - accuracy: 0.7986 - loss: 95.9266 - val_accuracy: 0.8988 - val_loss: 45.3366\n",
            "Epoch 51/60\n",
            "\u001b[1m4/4\u001b[0m \u001b[32m━━━━━━━━━━━━━━━━━━━━\u001b[0m\u001b[37m\u001b[0m \u001b[1m0s\u001b[0m 60ms/step - accuracy: 0.8121 - loss: 94.7679 - val_accuracy: 0.8988 - val_loss: 42.8270\n",
            "Epoch 52/60\n",
            "\u001b[1m4/4\u001b[0m \u001b[32m━━━━━━━━━━━━━━━━━━━━\u001b[0m\u001b[37m\u001b[0m \u001b[1m0s\u001b[0m 56ms/step - accuracy: 0.8109 - loss: 92.7860 - val_accuracy: 0.8988 - val_loss: 39.4499\n",
            "Epoch 53/60\n",
            "\u001b[1m4/4\u001b[0m \u001b[32m━━━━━━━━━━━━━━━━━━━━\u001b[0m\u001b[37m\u001b[0m \u001b[1m1s\u001b[0m 43ms/step - accuracy: 0.8087 - loss: 84.6094 - val_accuracy: 0.8988 - val_loss: 36.4636\n",
            "Epoch 54/60\n",
            "\u001b[1m4/4\u001b[0m \u001b[32m━━━━━━━━━━━━━━━━━━━━\u001b[0m\u001b[37m\u001b[0m \u001b[1m0s\u001b[0m 51ms/step - accuracy: 0.8186 - loss: 92.2789 - val_accuracy: 0.8988 - val_loss: 33.6694\n",
            "Epoch 55/60\n",
            "\u001b[1m4/4\u001b[0m \u001b[32m━━━━━━━━━━━━━━━━━━━━\u001b[0m\u001b[37m\u001b[0m \u001b[1m0s\u001b[0m 44ms/step - accuracy: 0.8151 - loss: 76.4797 - val_accuracy: 0.8988 - val_loss: 31.4275\n",
            "Epoch 56/60\n",
            "\u001b[1m4/4\u001b[0m \u001b[32m━━━━━━━━━━━━━━━━━━━━\u001b[0m\u001b[37m\u001b[0m \u001b[1m0s\u001b[0m 30ms/step - accuracy: 0.8206 - loss: 71.3544 - val_accuracy: 0.8988 - val_loss: 30.0659\n",
            "Epoch 57/60\n",
            "\u001b[1m4/4\u001b[0m \u001b[32m━━━━━━━━━━━━━━━━━━━━\u001b[0m\u001b[37m\u001b[0m \u001b[1m0s\u001b[0m 35ms/step - accuracy: 0.8118 - loss: 92.8689 - val_accuracy: 0.8988 - val_loss: 28.6271\n",
            "Epoch 58/60\n",
            "\u001b[1m4/4\u001b[0m \u001b[32m━━━━━━━━━━━━━━━━━━━━\u001b[0m\u001b[37m\u001b[0m \u001b[1m0s\u001b[0m 71ms/step - accuracy: 0.8009 - loss: 79.9137 - val_accuracy: 0.8988 - val_loss: 26.9976\n",
            "Epoch 59/60\n",
            "\u001b[1m4/4\u001b[0m \u001b[32m━━━━━━━━━━━━━━━━━━━━\u001b[0m\u001b[37m\u001b[0m \u001b[1m1s\u001b[0m 60ms/step - accuracy: 0.8333 - loss: 60.5194 - val_accuracy: 0.8988 - val_loss: 24.5078\n",
            "Epoch 60/60\n",
            "\u001b[1m4/4\u001b[0m \u001b[32m━━━━━━━━━━━━━━━━━━━━\u001b[0m\u001b[37m\u001b[0m \u001b[1m0s\u001b[0m 72ms/step - accuracy: 0.8133 - loss: 65.0781 - val_accuracy: 0.8988 - val_loss: 21.9068\n",
            "\u001b[1m13/13\u001b[0m \u001b[32m━━━━━━━━━━━━━━━━━━━━\u001b[0m\u001b[37m\u001b[0m \u001b[1m1s\u001b[0m 29ms/step\n"
          ]
        },
        {
          "output_type": "stream",
          "name": "stderr",
          "text": [
            "/usr/local/lib/python3.11/dist-packages/sklearn/metrics/_classification.py:1565: UndefinedMetricWarning: Precision is ill-defined and being set to 0.0 in labels with no predicted samples. Use `zero_division` parameter to control this behavior.\n",
            "  _warn_prf(average, modifier, f\"{metric.capitalize()} is\", len(result))\n"
          ]
        },
        {
          "output_type": "stream",
          "name": "stdout",
          "text": [
            "Test loss: 31.13153648376465\n",
            "Test accuracy: 0.8987654447555542\n",
            "Accuracy: 0.8987654320987655\n",
            "Precision: 0.8077793019356806\n",
            "Recall: 0.8987654320987655\n",
            "F1 Score: 0.8508468589959705\n",
            "AUC: 0.5\n"
          ]
        }
      ]
    },
    {
      "cell_type": "markdown",
      "source": [
        "# Apply Logictic Regression"
      ],
      "metadata": {
        "id": "rKuO9gwAGa8s"
      }
    },
    {
      "cell_type": "code",
      "source": [
        "logreg = LogisticRegression(max_iter=500, solver='lbfgs', multi_class='ovr')\n",
        "y_train = y_train.values.ravel()\n",
        "y_test = y_test.values.ravel()\n",
        "\n",
        "logreg.fit(X_train, y_train)\n",
        "\n",
        "y_pred = logreg.predict(X_test)\n",
        "\n",
        "accuracy_logreg = accuracy_score(y_test, y_pred)\n",
        "precision_logreg = precision_score(y_test, y_pred, average='weighted')\n",
        "recall_logreg = recall_score(y_test, y_pred, average='weighted')\n",
        "f1_logreg = f1_score(y_test, y_pred, average='weighted')\n",
        "\n",
        "fpr_logreg, tpr_logreg, thresholds_logreg = roc_curve(y_test, y_pred, pos_label=1)\n",
        "roc_auc_logreg = auc(fpr_logreg, tpr_logreg)\n",
        "\n",
        "\n",
        "print('Logistic Regression:')\n",
        "print('Accuracy:', accuracy_logreg)\n",
        "print('Precision:', precision_logreg)\n",
        "print('Recall:', recall_logreg)\n",
        "print('F1 Score:', f1_logreg)\n",
        "print(\"AUC:\", roc_auc_logreg)"
      ],
      "metadata": {
        "id": "NvfknxvNGbW-",
        "colab": {
          "base_uri": "https://localhost:8080/"
        },
        "outputId": "94b8269a-2226-42f8-f436-0ef0ba3615c4"
      },
      "execution_count": null,
      "outputs": [
        {
          "output_type": "stream",
          "name": "stderr",
          "text": [
            "/usr/local/lib/python3.11/dist-packages/sklearn/linear_model/_logistic.py:1256: FutureWarning: 'multi_class' was deprecated in version 1.5 and will be removed in 1.7. Use OneVsRestClassifier(LogisticRegression(..)) instead. Leave it to its default value to avoid this warning.\n",
            "  warnings.warn(\n"
          ]
        },
        {
          "output_type": "stream",
          "name": "stdout",
          "text": [
            "Logistic Regression:\n",
            "Accuracy: 0.9950617283950617\n",
            "Precision: 0.9950887134857991\n",
            "Recall: 0.9950617283950617\n",
            "F1 Score: 0.9950067647556233\n",
            "AUC: 0.975609756097561\n"
          ]
        },
        {
          "output_type": "stream",
          "name": "stderr",
          "text": [
            "/usr/local/lib/python3.11/dist-packages/sklearn/linear_model/_logistic.py:465: ConvergenceWarning: lbfgs failed to converge (status=1):\n",
            "STOP: TOTAL NO. of ITERATIONS REACHED LIMIT.\n",
            "\n",
            "Increase the number of iterations (max_iter) or scale the data as shown in:\n",
            "    https://scikit-learn.org/stable/modules/preprocessing.html\n",
            "Please also refer to the documentation for alternative solver options:\n",
            "    https://scikit-learn.org/stable/modules/linear_model.html#logistic-regression\n",
            "  n_iter_i = _check_optimize_result(\n"
          ]
        }
      ]
    },
    {
      "cell_type": "markdown",
      "source": [
        "# Apply Random Forest"
      ],
      "metadata": {
        "id": "xIasKuciGe2I"
      }
    },
    {
      "cell_type": "code",
      "source": [
        "rf = RandomForestClassifier(n_estimators=1000,\n",
        "                            max_depth=10,\n",
        "                            min_samples_split=4,\n",
        "                            min_samples_leaf=2,\n",
        "                            max_features='sqrt',\n",
        "                            random_state=1)\n",
        "\n",
        "rf.fit(X_train, y_train)\n",
        "y_pred = rf.predict(X_test)\n",
        "\n",
        "accuracy_rf = accuracy_score(y_test, y_pred)\n",
        "precision_rf = precision_score(y_test, y_pred, average='weighted')\n",
        "recall_rf = recall_score(y_test, y_pred, average='weighted')\n",
        "f1_rf = f1_score(y_test, y_pred, average='weighted')\n",
        "\n",
        "fpr_rf, tpr_rf, thresholds_rf = roc_curve(y_test, y_pred, pos_label=1)\n",
        "roc_auc_rf = auc(fpr_rf, tpr_rf)\n",
        "\n",
        "\n",
        "print('Random Forest:')\n",
        "print('Accuracy:', accuracy_rf)\n",
        "print('Precision:', precision_rf)\n",
        "print('Recall:', recall_rf)\n",
        "print('F1 Score:', f1_rf)\n",
        "print(\"AUC:\", roc_auc_rf)"
      ],
      "metadata": {
        "id": "_h_Z-klOGfcO",
        "colab": {
          "base_uri": "https://localhost:8080/"
        },
        "outputId": "47d52e97-8411-4606-eb22-22073b983edf"
      },
      "execution_count": null,
      "outputs": [
        {
          "output_type": "stream",
          "name": "stdout",
          "text": [
            "Random Forest:\n",
            "Accuracy: 1.0\n",
            "Precision: 1.0\n",
            "Recall: 1.0\n",
            "F1 Score: 1.0\n",
            "AUC: 1.0\n"
          ]
        }
      ]
    },
    {
      "cell_type": "markdown",
      "source": [
        "# Result"
      ],
      "metadata": {
        "id": "cRmjwIQpFOky"
      }
    },
    {
      "cell_type": "code",
      "source": [
        "table = PrettyTable()\n",
        "\n",
        "table.field_names = [\"Model\", \"Accuracy\", \"Precision\", \"Recall\", \"F1 Score\", \"AUC\"]\n",
        "\n",
        "table.add_row([\"Neural Network\", f\"{accuracy_NN * 100:.4f}%\", f\"{precision_NN * 100:.4f}%\", f\"{recall_NN * 100:.4f}%\", f\"{f1_NN * 100:.4f}%\",  f\"{roc_auc_NN * 100:.2f}%\"])\n",
        "table.add_row([\"Logistic Regression\",  f\"{accuracy_logreg * 100:.4f}%\", f\"{precision_logreg * 100:.4f}%\", f\"{recall_logreg * 100:.4f}%\", f\"{f1_logreg * 100:.4f}%\", f\"{roc_auc_logreg * 100:.2f}%\"])\n",
        "table.add_row([\"Random Forest\", f\"{accuracy_rf * 100:.4f}%\", f\"{precision_rf * 100:.4f}%\", f\"{recall_rf * 100:.4f}%\", f\"{f1_rf * 100:.4f}%\", f\"{roc_auc_rf * 100:.2f}%\"])\n",
        "\n",
        "print(table)"
      ],
      "metadata": {
        "colab": {
          "base_uri": "https://localhost:8080/"
        },
        "id": "WQ9LRqQlFTVe",
        "outputId": "0699a915-d4bf-4946-cd52-bc29d5c5dba4"
      },
      "execution_count": null,
      "outputs": [
        {
          "output_type": "stream",
          "name": "stdout",
          "text": [
            "+---------------------+-----------+-----------+-----------+-----------+---------+\n",
            "|        Model        |  Accuracy | Precision |   Recall  |  F1 Score |   AUC   |\n",
            "+---------------------+-----------+-----------+-----------+-----------+---------+\n",
            "|    Neural Network   |  89.8765% |  80.7779% |  89.8765% |  85.0847% |  50.00% |\n",
            "| Logistic Regression |  99.5062% |  99.5089% |  99.5062% |  99.5007% |  97.56% |\n",
            "|    Random Forest    | 100.0000% | 100.0000% | 100.0000% | 100.0000% | 100.00% |\n",
            "+---------------------+-----------+-----------+-----------+-----------+---------+\n"
          ]
        }
      ]
    },
    {
      "cell_type": "code",
      "source": [
        "plt.figure(figsize=(10, 6))\n",
        "plt.plot(fpr_NN, tpr_NN, label=f\"Neural Network (AUC = {roc_auc_NN:.2f})\")\n",
        "plt.plot(fpr_logreg, tpr_logreg, label=f\"Logistic Regression (AUC = {roc_auc_logreg:.2f})\")\n",
        "plt.plot(fpr_rf, tpr_rf, label=f\"Random Forest (AUC = {roc_auc_rf:.2f})\")\n",
        "plt.plot([0, 1], [0, 1], linestyle='--', color='gray')\n",
        "\n",
        "plt.title(\"Receiver Operating Characteristic (ROC) Curve\")\n",
        "plt.xlabel(\"False Positive Rate\")\n",
        "plt.ylabel(\"True Positive Rate\")\n",
        "plt.legend(loc=\"lower right\")\n",
        "plt.show()"
      ],
      "metadata": {
        "colab": {
          "base_uri": "https://localhost:8080/",
          "height": 564
        },
        "id": "z5E_6SB8FkPT",
        "outputId": "024ad9c2-36c2-4548-c989-a66050e22648"
      },
      "execution_count": null,
      "outputs": [
        {
          "output_type": "display_data",
          "data": {
            "text/plain": [
              "<Figure size 1000x600 with 1 Axes>"
            ],
            "image/png": "[encoded data removed]"
          },
          "metadata": {}
        }
      ]
    }
  ]
}